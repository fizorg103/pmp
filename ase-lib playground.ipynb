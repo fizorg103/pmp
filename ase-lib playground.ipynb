{
 "cells": [
  {
   "cell_type": "code",
   "execution_count": 40,
   "metadata": {},
   "outputs": [],
   "source": [
    "import ase\n",
    "from ase import Atoms\n",
    "import ase.visualize\n",
    "import pandas as pd\n",
    "import random "
   ]
  },
  {
   "cell_type": "code",
   "execution_count": 41,
   "metadata": {},
   "outputs": [],
   "source": [
    "struct_file = pd.read_csv('./input/structures.csv')\n",
    "test_file = pd.read_csv('./input/test.csv')\n",
    "train_file = pd.read_csv('./input/train.csv')"
   ]
  },
  {
   "cell_type": "code",
   "execution_count": 48,
   "metadata": {},
   "outputs": [],
   "source": [
    "def import_(molecule):\n",
    "    # Select a molecule\n",
    "    mol = struct_file[struct_file['molecule_name'] == molecule]\n",
    "    coordinates = mol.iloc[:, 3:].values\n",
    "    symbols = mol.iloc[:, 2].values\n",
    "    system = Atoms(positions=coordinates, symbols=symbols)\n",
    "    print('Molecule Name: %s.' %molecule)\n",
    "    display(mol)\n",
    "    return system\n",
    "\n",
    "\n",
    "def view(system):\n",
    "    return ase.visualize.view(system, viewer=\"x3d\")\n",
    "    \n",
    "    \n",
    "def get_coords(molecule):\n",
    "    mol = struct_file[struct_file['molecule_name'] == molecule]\n",
    "    mol.index = mol.atom_index\n",
    "    return mol.iloc[:,2:]\n",
    "    \n",
    "    \n",
    "# извлекаем датасет с типом и индексами атомов    \n",
    "def get_interactions(molecule):\n",
    "    df = test_file[test_file['molecule_name'] == molecule]\n",
    "    if df.shape[0] == 0:\n",
    "        df = train_file[train_file['molecule_name'] == molecule]\n",
    "    df.index = df.id\n",
    "    df = df.assign(atom_indexes=df[['atom_index_0', 'atom_index_1']].values.tolist())\n",
    "    df.drop(['id', 'atom_index_0', 'atom_index_1', 'molecule_name'], inplace = True, axis = 1)\n",
    "    return df\n",
    "\n",
    "def export(molecule_name):\n",
    "    get_interactions(molecule_name).to_csv(f'./out/interactions/{molecule_name}.csv')\n",
    "    get_coords(molecule_name).to_csv(f'./out/geometry/{molecule_name}.csv')\n",
    "    print(f\"saved {molecule_name} info\")"
   ]
  },
  {
   "cell_type": "code",
   "execution_count": 51,
   "metadata": {
    "scrolled": false
   },
   "outputs": [
    {
     "name": "stdout",
     "output_type": "stream",
     "text": [
      "saved dsgdb9nsd_021453 info\n"
     ]
    }
   ],
   "source": [
    "random_molecule = random.choice(train_file['molecule_name'].unique())\n",
    "\n",
    "export(random_molecule)"
   ]
  },
  {
   "cell_type": "code",
   "execution_count": 50,
   "metadata": {},
   "outputs": [
    {
     "name": "stdout",
     "output_type": "stream",
     "text": [
      "saved dsgdb9nsd_115105 info\n",
      "saved dsgdb9nsd_003139 info\n",
      "saved dsgdb9nsd_037105 info\n",
      "saved dsgdb9nsd_032901 info\n",
      "saved dsgdb9nsd_115569 info\n",
      "saved dsgdb9nsd_012487 info\n",
      "saved dsgdb9nsd_102287 info\n",
      "saved dsgdb9nsd_039941 info\n",
      "saved dsgdb9nsd_022894 info\n",
      "saved dsgdb9nsd_125115 info\n"
     ]
    }
   ],
   "source": [
    "for i in range(10):\n",
    "    random_molecule = random.choice(train_file['molecule_name'].unique())\n",
    "    export(random_molecule)"
   ]
  },
  {
   "cell_type": "code",
   "execution_count": null,
   "metadata": {},
   "outputs": [],
   "source": []
  },
  {
   "cell_type": "code",
   "execution_count": null,
   "metadata": {},
   "outputs": [],
   "source": []
  },
  {
   "cell_type": "code",
   "execution_count": null,
   "metadata": {},
   "outputs": [],
   "source": []
  }
 ],
 "metadata": {
  "kernelspec": {
   "display_name": "Python 3",
   "language": "python",
   "name": "python3"
  },
  "language_info": {
   "codemirror_mode": {
    "name": "ipython",
    "version": 3
   },
   "file_extension": ".py",
   "mimetype": "text/x-python",
   "name": "python",
   "nbconvert_exporter": "python",
   "pygments_lexer": "ipython3",
   "version": "3.7.3"
  }
 },
 "nbformat": 4,
 "nbformat_minor": 2
}
