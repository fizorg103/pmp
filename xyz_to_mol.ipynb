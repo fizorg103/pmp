{
 "cells": [
  {
   "cell_type": "code",
   "execution_count": 3,
   "metadata": {},
   "outputs": [],
   "source": [
    "import ase\n",
    "from ase import Atoms\n",
    "import ase.visualize\n",
    "import pandas as pd\n",
    "import random\n",
    "import os\n",
    "from mol_graph.xyz2mol import read_xyz_file, xyz2mol\n",
    "from rdkit import Chem\n",
    "from mol_graph.angles import get_dihedral_deg"
   ]
  },
  {
   "cell_type": "code",
   "execution_count": 4,
   "metadata": {},
   "outputs": [],
   "source": [
    "struct_file = pd.read_csv('./input/structures.csv')\n",
    "test_file = pd.read_csv('./input/test.csv')\n",
    "train_file = pd.read_csv('./input/train.csv')"
   ]
  },
  {
   "cell_type": "code",
   "execution_count": 5,
   "metadata": {},
   "outputs": [],
   "source": [
    "random_molecule = random.choice(test_file['molecule_name'].unique())"
   ]
  },
  {
   "cell_type": "code",
   "execution_count": 6,
   "metadata": {},
   "outputs": [],
   "source": [
    "df = train_file[train_file['type'] == '3JHH'][:100]\n",
    "df['dihedral_angle'] = df.apply(get_dihedral_deg, axis=1)"
   ]
  },
  {
   "cell_type": "code",
   "execution_count": 7,
   "metadata": {},
   "outputs": [
    {
     "data": {
      "text/html": [
       "<div>\n",
       "<style scoped>\n",
       "    .dataframe tbody tr th:only-of-type {\n",
       "        vertical-align: middle;\n",
       "    }\n",
       "\n",
       "    .dataframe tbody tr th {\n",
       "        vertical-align: top;\n",
       "    }\n",
       "\n",
       "    .dataframe thead th {\n",
       "        text-align: right;\n",
       "    }\n",
       "</style>\n",
       "<table border=\"1\" class=\"dataframe\">\n",
       "  <thead>\n",
       "    <tr style=\"text-align: right;\">\n",
       "      <th></th>\n",
       "      <th>id</th>\n",
       "      <th>molecule_name</th>\n",
       "      <th>atom_index_0</th>\n",
       "      <th>atom_index_1</th>\n",
       "      <th>type</th>\n",
       "      <th>scalar_coupling_constant</th>\n",
       "      <th>dihedral_angle</th>\n",
       "    </tr>\n",
       "  </thead>\n",
       "  <tbody>\n",
       "    <tr>\n",
       "      <th>23</th>\n",
       "      <td>23</td>\n",
       "      <td>dsgdb9nsd_000007</td>\n",
       "      <td>2</td>\n",
       "      <td>5</td>\n",
       "      <td>3JHH</td>\n",
       "      <td>3.25281</td>\n",
       "      <td>60.002806</td>\n",
       "    </tr>\n",
       "    <tr>\n",
       "      <th>24</th>\n",
       "      <td>24</td>\n",
       "      <td>dsgdb9nsd_000007</td>\n",
       "      <td>2</td>\n",
       "      <td>6</td>\n",
       "      <td>3JHH</td>\n",
       "      <td>13.69130</td>\n",
       "      <td>179.998989</td>\n",
       "    </tr>\n",
       "    <tr>\n",
       "      <th>25</th>\n",
       "      <td>25</td>\n",
       "      <td>dsgdb9nsd_000007</td>\n",
       "      <td>2</td>\n",
       "      <td>7</td>\n",
       "      <td>3JHH</td>\n",
       "      <td>3.25205</td>\n",
       "      <td>-59.997833</td>\n",
       "    </tr>\n",
       "    <tr>\n",
       "      <th>29</th>\n",
       "      <td>29</td>\n",
       "      <td>dsgdb9nsd_000007</td>\n",
       "      <td>3</td>\n",
       "      <td>5</td>\n",
       "      <td>3JHH</td>\n",
       "      <td>13.69240</td>\n",
       "      <td>179.999337</td>\n",
       "    </tr>\n",
       "    <tr>\n",
       "      <th>30</th>\n",
       "      <td>30</td>\n",
       "      <td>dsgdb9nsd_000007</td>\n",
       "      <td>3</td>\n",
       "      <td>6</td>\n",
       "      <td>3JHH</td>\n",
       "      <td>3.25253</td>\n",
       "      <td>-60.004479</td>\n",
       "    </tr>\n",
       "  </tbody>\n",
       "</table>\n",
       "</div>"
      ],
      "text/plain": [
       "    id     molecule_name  atom_index_0  atom_index_1  type  \\\n",
       "23  23  dsgdb9nsd_000007             2             5  3JHH   \n",
       "24  24  dsgdb9nsd_000007             2             6  3JHH   \n",
       "25  25  dsgdb9nsd_000007             2             7  3JHH   \n",
       "29  29  dsgdb9nsd_000007             3             5  3JHH   \n",
       "30  30  dsgdb9nsd_000007             3             6  3JHH   \n",
       "\n",
       "    scalar_coupling_constant  dihedral_angle  \n",
       "23                   3.25281       60.002806  \n",
       "24                  13.69130      179.998989  \n",
       "25                   3.25205      -59.997833  \n",
       "29                  13.69240      179.999337  \n",
       "30                   3.25253      -60.004479  "
      ]
     },
     "execution_count": 7,
     "metadata": {},
     "output_type": "execute_result"
    }
   ],
   "source": [
    "df.head()"
   ]
  },
  {
   "cell_type": "code",
   "execution_count": 31,
   "metadata": {},
   "outputs": [],
   "source": []
  },
  {
   "cell_type": "code",
   "execution_count": 32,
   "metadata": {},
   "outputs": [],
   "source": []
  },
  {
   "cell_type": "code",
   "execution_count": 33,
   "metadata": {},
   "outputs": [],
   "source": []
  },
  {
   "cell_type": "code",
   "execution_count": null,
   "metadata": {},
   "outputs": [],
   "source": []
  },
  {
   "cell_type": "code",
   "execution_count": null,
   "metadata": {},
   "outputs": [],
   "source": []
  }
 ],
 "metadata": {
  "kernelspec": {
   "display_name": "Python 3",
   "language": "python",
   "name": "python3"
  }
 },
 "nbformat": 4,
 "nbformat_minor": 2
}
